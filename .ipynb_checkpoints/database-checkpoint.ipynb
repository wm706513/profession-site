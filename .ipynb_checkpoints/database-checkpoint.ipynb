{
 "cells": [
  {
   "cell_type": "code",
   "execution_count": 2,
   "id": "c7661a07",
   "metadata": {},
   "outputs": [],
   "source": [
    "import MySQLdb\n",
    "import sshtunnel\n",
    "from dotenv import load_dotenv"
   ]
  },
  {
   "cell_type": "code",
   "execution_count": 3,
   "id": "8162e60f",
   "metadata": {},
   "outputs": [],
   "source": [
    "sshtunnel.SSH_TIMEOUT = 10.0\n",
    "sshtunnel.TUNNEL_TIMEOUT = 10.0\n",
    "\n",
    "with sshtunnel.SSHTunnelForwarder(\n",
    "    ('ssh.pythonanywhere.com'),\n",
    "    ssh_username='Trillithia',\n",
    "    ssh_password='zarindri1996',\n",
    "    remote_bind_address=('Trillithia.mysql.pythonanywhere-services.com', 3306)\n",
    ") as tunnel:\n",
    "    connection = MySQLdb.connect(\n",
    "        user='Trillithia', \n",
    "        passwd='TropicalMango1800', \n",
    "        host='127.0.0.1', port=tunnel.local_bind_port, \n",
    "        db='Trillithia$wow_professions'\n",
    "    )\n",
    "    \n",
    "    cursor = connection.cursor()"
   ]
  },
  {
   "cell_type": "code",
   "execution_count": null,
   "id": "60ca8928",
   "metadata": {},
   "outputs": [],
   "source": []
  }
 ],
 "metadata": {
  "kernelspec": {
   "display_name": "Python 3 (ipykernel)",
   "language": "python",
   "name": "python3"
  },
  "language_info": {
   "codemirror_mode": {
    "name": "ipython",
    "version": 3
   },
   "file_extension": ".py",
   "mimetype": "text/x-python",
   "name": "python",
   "nbconvert_exporter": "python",
   "pygments_lexer": "ipython3",
   "version": "3.10.13"
  }
 },
 "nbformat": 4,
 "nbformat_minor": 5
}
